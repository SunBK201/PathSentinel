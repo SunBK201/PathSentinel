{
 "cells": [
  {
   "cell_type": "code",
   "execution_count": 66,
   "metadata": {},
   "outputs": [],
   "source": [
    "import torch\n",
    "import string"
   ]
  },
  {
   "cell_type": "code",
   "execution_count": 67,
   "metadata": {},
   "outputs": [],
   "source": [
    "pt_path = \"pt/10w.pt\""
   ]
  },
  {
   "cell_type": "code",
   "execution_count": 68,
   "metadata": {},
   "outputs": [],
   "source": [
    "all_char = string.printable\n",
    "n_all_char = len(all_char)\n",
    "all_categories = [\"normal\", \"attack\"]\n",
    "\n",
    "\n",
    "def char2index(char: str):\n",
    "    return all_char.find(char)\n",
    "\n",
    "\n",
    "def char2tensor(char: str):\n",
    "    tensor = torch.zeros(1, n_all_char)\n",
    "    tensor[0][char2index(char)] = 1\n",
    "    return tensor\n",
    "\n",
    "\n",
    "def line2tensor(line: str):\n",
    "    tensor = torch.zeros(len(line), n_all_char)\n",
    "    for i, char in enumerate(line):\n",
    "        tensor[i][char2index(char)] = 1\n",
    "    return tensor\n",
    "\n",
    "def categoryFromOutput(output):\n",
    "    top_n, top_i = output.topk(1)\n",
    "    category_i = top_i[0].item()\n",
    "    return all_categories[category_i], category_i"
   ]
  },
  {
   "cell_type": "code",
   "execution_count": 69,
   "metadata": {},
   "outputs": [],
   "source": [
    "class RNN(torch.nn.Module):\n",
    "    def __init__(self, input_size, hidden_size, output_size, num_layers):\n",
    "        super().__init__()\n",
    "\n",
    "        self.num_layers = num_layers\n",
    "        self.input_size = input_size\n",
    "        self.hidden_size = hidden_size\n",
    "        self.rnn = torch.nn.RNN(\n",
    "            input_size=self.input_size,\n",
    "            hidden_size=self.hidden_size,\n",
    "            num_layers=num_layers,\n",
    "        )\n",
    "        self.h2o = torch.nn.Linear(hidden_size, output_size)\n",
    "\n",
    "    def forward(self, input):\n",
    "        hidden = torch.zeros(self.num_layers, self.hidden_size)\n",
    "        input, _ = self.rnn(input, hidden)\n",
    "        output = self.h2o(input[-1, :])\n",
    "        return output.unsqueeze(0)\n",
    "\n",
    "\n",
    "input_size = n_all_char\n",
    "output_size = 2\n",
    "hidden_size = 128\n",
    "num_layers = 2\n",
    "learning_rate = 0.00008\n",
    "rnn = RNN(input_size, hidden_size, output_size, num_layers)"
   ]
  },
  {
   "cell_type": "code",
   "execution_count": 78,
   "metadata": {},
   "outputs": [
    {
     "name": "stdout",
     "output_type": "stream",
     "text": [
      "('normal', 0)\n"
     ]
    }
   ],
   "source": [
    "checkpoint = torch.load(pt_path)\n",
    "rnn.load_state_dict(checkpoint[\"state\"])\n",
    "start_epoch = checkpoint[\"epoch\"]\n",
    "test_tensor = line2tensor(\"/hello/world\")\n",
    "print(categoryFromOutput(rnn(test_tensor)))"
   ]
  }
 ],
 "metadata": {
  "kernelspec": {
   "display_name": "Python 3",
   "language": "python",
   "name": "python3"
  },
  "language_info": {
   "codemirror_mode": {
    "name": "ipython",
    "version": 3
   },
   "file_extension": ".py",
   "mimetype": "text/x-python",
   "name": "python",
   "nbconvert_exporter": "python",
   "pygments_lexer": "ipython3",
   "version": "3.11.3"
  },
  "orig_nbformat": 4
 },
 "nbformat": 4,
 "nbformat_minor": 2
}
