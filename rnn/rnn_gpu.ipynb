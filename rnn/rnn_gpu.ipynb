{
 "cells": [
  {
   "cell_type": "code",
   "execution_count": 1,
   "metadata": {},
   "outputs": [],
   "source": [
    "import sys\n",
    "import torch\n",
    "import string\n",
    "from torch.utils.data import Dataset, DataLoader, random_split\n",
    "import matplotlib.pyplot as plt\n",
    "from tqdm import tqdm\n",
    "\n",
    "# device = torch.device(\"cuda:0\" if torch.cuda.is_available() else \"mps\" if torch.has_mps else \"cpu\")\n",
    "device = torch.device(\"cuda:0\" if torch.cuda.is_available() else \"cpu\")"
   ]
  },
  {
   "cell_type": "code",
   "execution_count": 2,
   "metadata": {},
   "outputs": [],
   "source": [
    "all_categories = [\"normal\", \"attack\"]\n",
    "n_categories = len(all_categories)\n",
    "category_lines = {}\n",
    "\n",
    "PATH_NORMAL = \"dataset/normal.txt\"\n",
    "PATH_ATTACK = \"dataset/attack.txt\"\n",
    "\n",
    "def readLines(filename: str) -> list[str]:\n",
    "    lines = open(filename, encoding=\"utf-8\").read().strip().split(\"\\n\")\n",
    "    return lines\n",
    "\n",
    "def removeBlankLines(file_path: str) -> None:\n",
    "    with open(file_path, 'r') as f:\n",
    "        lines = [line for line in f if line.strip()]\n",
    "\n",
    "    with open(file_path, 'w') as f:\n",
    "        f.writelines(lines)\n",
    "\n",
    "removeBlankLines(PATH_NORMAL)\n",
    "removeBlankLines(PATH_ATTACK)\n",
    "lines_normal = readLines(PATH_NORMAL)  # list_of_normal\n",
    "lines_attack = readLines(PATH_ATTACK)  # list_of_attack\n",
    "lines_all = lines_normal + lines_attack\n",
    "\n",
    "category_lines[\"normal\"] = lines_normal\n",
    "category_lines[\"attack\"] = lines_attack"
   ]
  },
  {
   "cell_type": "code",
   "execution_count": 3,
   "metadata": {},
   "outputs": [],
   "source": [
    "all_char = string.printable\n",
    "n_all_char = len(all_char)\n",
    "\n",
    "\n",
    "def char2index(char: str):\n",
    "    return all_char.find(char)\n",
    "\n",
    "\n",
    "def char2tensor(char: str):\n",
    "    tensor = torch.zeros(1, n_all_char)\n",
    "    tensor[0][char2index(char)] = 1\n",
    "    return tensor\n",
    "\n",
    "\n",
    "def line2tensor(line: str):\n",
    "    tensor = torch.zeros(len(line), n_all_char)\n",
    "    for i, char in enumerate(line):\n",
    "        tensor[i][char2index(char)] = 1\n",
    "    return tensor\n"
   ]
  },
  {
   "cell_type": "code",
   "execution_count": 4,
   "metadata": {},
   "outputs": [],
   "source": [
    "class URLDataset(Dataset):\n",
    "    def __init__(self, lines_normal, lines_attack, lines_all):\n",
    "        self.len = len(lines_normal) + len(lines_attack)\n",
    "        self.normal_tensor = torch.zeros((len(lines_normal)), dtype=torch.long)\n",
    "        self.attack_tensor = torch.ones(len(lines_attack), dtype=torch.long)\n",
    "        self.x_data = [line2tensor(line) for line in tqdm(lines_all)]\n",
    "        self.x_raw = lines_all\n",
    "        self.y_data = torch.cat((self.normal_tensor, self.attack_tensor), dim=0)\n",
    "\n",
    "    def __getitem__(self, index):\n",
    "        return self.x_data[index], self.y_data[index], self.x_raw[index]\n",
    "\n",
    "    def __len__(self):\n",
    "        return self.len\n"
   ]
  },
  {
   "cell_type": "code",
   "execution_count": 5,
   "metadata": {},
   "outputs": [
    {
     "name": "stderr",
     "output_type": "stream",
     "text": [
      "100%|██████████| 106831/106831 [00:19<00:00, 5571.99it/s]\n"
     ]
    }
   ],
   "source": [
    "dataset = URLDataset(lines_normal, lines_attack, lines_all)\n",
    "train_dataset, test_dataset = random_split(dataset, lengths=[0.7, 0.3])\n",
    "train_size = len(train_dataset)\n",
    "test_size = len(test_dataset)\n",
    "train_loader = DataLoader(dataset=train_dataset, shuffle=True, num_workers=0)\n",
    "test_loader = DataLoader(dataset=test_dataset, shuffle=True, num_workers=0)"
   ]
  },
  {
   "cell_type": "code",
   "execution_count": 6,
   "metadata": {},
   "outputs": [],
   "source": [
    "def categoryFromOutput(output):\n",
    "    top_n, top_i = output.topk(1)\n",
    "    category_i = top_i[0].item()\n",
    "    return all_categories[category_i], category_i"
   ]
  },
  {
   "cell_type": "code",
   "execution_count": 7,
   "metadata": {},
   "outputs": [],
   "source": [
    "class RNN(torch.nn.Module):\n",
    "    def __init__(self, input_size, hidden_size, output_size, num_layers):\n",
    "        super().__init__()\n",
    "\n",
    "        self.num_layers = num_layers\n",
    "        self.input_size = input_size\n",
    "        self.hidden_size = hidden_size\n",
    "        self.rnn = torch.nn.RNN(\n",
    "            input_size=self.input_size,\n",
    "            hidden_size=self.hidden_size,\n",
    "            num_layers=num_layers,\n",
    "            device=device\n",
    "        )\n",
    "        self.h2o = torch.nn.Linear(hidden_size, output_size, device=device)\n",
    "\n",
    "    def forward(self, input):\n",
    "        hidden = torch.zeros(self.num_layers, self.hidden_size, device=device)\n",
    "        input, _ = self.rnn(input, hidden)\n",
    "        output = self.h2o(input[-1, :])\n",
    "        return output.unsqueeze(0)\n",
    "\n",
    "\n",
    "input_size = n_all_char\n",
    "output_size = 2\n",
    "hidden_size = 128\n",
    "num_layers = 4\n",
    "learning_rate = 0.00008\n",
    "rnn = RNN(input_size, hidden_size, output_size, num_layers)\n",
    "rnn.to(device)\n",
    "\n",
    "criterion = torch.nn.CrossEntropyLoss()\n",
    "optimizer = torch.optim.Adam(rnn.parameters(), lr=learning_rate)"
   ]
  },
  {
   "cell_type": "code",
   "execution_count": 8,
   "metadata": {},
   "outputs": [
    {
     "name": "stdout",
     "output_type": "stream",
     "text": [
      "Epoch [1/5]:   0%|          | 0/74782 [00:00<?, ?it/s]"
     ]
    },
    {
     "ename": "",
     "evalue": "",
     "output_type": "error",
     "traceback": [
      "\u001b[1;31m无法执行代码，已释放会话。请尝试重新启动内核。"
     ]
    },
    {
     "ename": "",
     "evalue": "",
     "output_type": "error",
     "traceback": [
      "\u001b[1;31m在当前单元格或上一个单元格中执行代码时 Kernel 崩溃。请查看单元格中的代码，以确定故障的可能原因。有关详细信息，请单击 <a href='https://aka.ms/vscodeJupyterKernelCrash'>此处</a>。有关更多详细信息，请查看 Jupyter <a href='command:jupyter.viewOutput'>log</a>。"
     ]
    }
   ],
   "source": [
    "EPOCHS = 3\n",
    "print_every = 5000\n",
    "plot_every = 100\n",
    "\n",
    "plt.figure()\n",
    "all_losses = []\n",
    "\n",
    "def train(epoch):\n",
    "    total_loss = 0\n",
    "    current_loss = 0\n",
    "    num_correct = 0\n",
    "    bar = tqdm(enumerate(train_loader, start=1), total=train_size, file=sys.stdout)\n",
    "    bar.set_description(f\"Epoch [{epoch}/{EPOCHS}]\")\n",
    "    for iter, (line_tensor, category_tensor, line) in bar:\n",
    "        line_tensor = line_tensor.to(device)\n",
    "        category_tensor = category_tensor.to(device)\n",
    "        output = rnn(line_tensor[0])\n",
    "        loss = criterion(output, category_tensor)\n",
    "        optimizer.zero_grad()\n",
    "        loss.backward()\n",
    "        optimizer.step()\n",
    "        total_loss += loss.item()\n",
    "        current_loss += loss.item()\n",
    "        guess, guess_i = categoryFromOutput(output)\n",
    "        category_i = category_tensor.item()\n",
    "        num_correct += 1 if guess_i == category_i else 0\n",
    "        bar.set_postfix_str(\n",
    "            f\"loss={loss.item():.6f}, acc={(num_correct / iter * 100):.3f}\",\n",
    "            refresh=False,\n",
    "        )\n",
    "\n",
    "        if iter % print_every == 0:\n",
    "            guess, guess_i = categoryFromOutput(output)\n",
    "            category = all_categories[category_tensor.item()]\n",
    "            correct = \"YES\" if guess_i == category_i else f\"NO ({category})\"\n",
    "            tqdm.write(\n",
    "                f\"epoch={epoch} iter={iter} {(iter + (epoch - 1) * train_size) / (train_size * EPOCHS):.5f}% {loss:.5f} {guess} {correct} {line[0]}\"\n",
    "            )\n",
    "        \n",
    "        if iter % plot_every == 0:\n",
    "            all_losses.append(current_loss / plot_every)\n",
    "            current_loss = 0\n",
    "\n",
    "    return total_loss\n",
    "\n",
    "\n",
    "def test():\n",
    "    num_correct = 0\n",
    "    with torch.no_grad():\n",
    "        bar = tqdm(enumerate(test_loader, start=1), total=test_size, file=sys.stdout)\n",
    "        bar.set_description(\"TEST\")\n",
    "        for iter, (line_tensor, category_tensor, line) in bar:\n",
    "            line_tensor = line_tensor.to(device)\n",
    "            category_tensor = category_tensor.to(device)\n",
    "            output = rnn(line_tensor[0])\n",
    "            guess, guess_i = categoryFromOutput(output)\n",
    "            category_i = category_tensor.item()\n",
    "            num_correct += 1 if guess_i == category_i else 0\n",
    "        acc = num_correct / test_size * 100\n",
    "        print(f\"Test set: Accuracy {num_correct} / {test_size} {acc:.2f} %\")\n",
    "\n",
    "\n",
    "for epoch in range(1, EPOCHS + 1):\n",
    "    train(epoch)\n",
    "    test()\n",
    "    state = {\"state\": rnn.state_dict(), \"epoch\": iter}\n",
    "    filename = \"pt/\" + str(epoch * train_size) + \".pt\"\n",
    "    torch.save(state, filename)\n",
    "\n",
    "# clear_output(wait=True)\n",
    "plt.plot(all_losses)\n",
    "plt.show()"
   ]
  }
 ],
 "metadata": {
  "kernelspec": {
   "display_name": "Python 3",
   "language": "python",
   "name": "python3"
  },
  "language_info": {
   "codemirror_mode": {
    "name": "ipython",
    "version": 3
   },
   "file_extension": ".py",
   "mimetype": "text/x-python",
   "name": "python",
   "nbconvert_exporter": "python",
   "pygments_lexer": "ipython3",
   "version": "3.9.16"
  },
  "orig_nbformat": 4
 },
 "nbformat": 4,
 "nbformat_minor": 2
}
